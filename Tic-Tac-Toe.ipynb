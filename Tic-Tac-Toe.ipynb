{
 "cells": [
  {
   "cell_type": "code",
   "execution_count": null,
   "id": "d2623a1c-8459-4d6f-b1c6-a9ff5fcc4c04",
   "metadata": {},
   "outputs": [],
   "source": [
    "def play_game():\n",
    "    # Initialize the board\n",
    "    board = [[' ' for _ in range(3)] for _ in range(3)]\n",
    "    current_player = 'X'\n",
    "    \n",
    "    while True:\n",
    "        print_board(board)\n",
    "        \n",
    "        # Get the current player's move\n",
    "        move = get_move(board, current_player)\n",
    "        board[move // 3][move % 3] = current_player\n",
    "        \n",
    "        # Check if the current player has won\n",
    "        if check_winner(board, current_player):\n",
    "            print_board(board)\n",
    "            print(f\"Player {current_player} wins!\")\n",
    "            return  # <--- Stops the game\n",
    "        \n",
    "        # Check if the game is a tie\n",
    "        if check_tie(board):\n",
    "            print_board(board)\n",
    "            print(\"It's a tie!\")\n",
    "            return  # <--- Stops the game\n",
    "        \n",
    "        # Switch players\n",
    "        current_player = 'O' if current_player == 'X' else 'X'\n"
   ]
  },
  {
   "cell_type": "code",
   "execution_count": 1,
   "id": "cf34e0bf-c284-4a4f-9754-1283be285a04",
   "metadata": {},
   "outputs": [
    {
     "name": "stdout",
     "output_type": "stream",
     "text": [
      "\n",
      "\n",
      "  |   |  \n",
      "-----\n",
      "  |   |  \n",
      "-----\n",
      "  |   |  \n",
      "-----\n"
     ]
    },
    {
     "name": "stdin",
     "output_type": "stream",
     "text": [
      "Player X, enter your move (1-9) or 'q' to quit:  q\n"
     ]
    },
    {
     "name": "stdout",
     "output_type": "stream",
     "text": [
      "Game exited.\n"
     ]
    }
   ],
   "source": [
    "def print_board(board):\n",
    "    print(\"\\n\")\n",
    "    for row in board:\n",
    "        print(\" | \".join(row))\n",
    "        print(\"-\" * 5)\n",
    "\n",
    "def check_winner(board, player):\n",
    "    for row in board:\n",
    "        if all([spot == player for spot in row]):\n",
    "            return True\n",
    "    for col in range(3):\n",
    "        if all([board[row][col] == player for row in range(3)]):\n",
    "            return True\n",
    "    if all([board[i][i] == player for i in range(3)]) or all([board[i][2 - i] == player for i in range(3)]):\n",
    "        return True\n",
    "    return False\n",
    "\n",
    "def check_tie(board):\n",
    "    return all([spot != ' ' for row in board for spot in row])\n",
    "\n",
    "def get_move(board, player):\n",
    "    while True:\n",
    "        move = input(f\"Player {player}, enter your move (1-9) or 'q' to quit: \")\n",
    "        if move.lower() == 'q':\n",
    "            print(\"Game exited.\")\n",
    "            return 'quit'  # return special value to stop game\n",
    "        try:\n",
    "            move = int(move) - 1\n",
    "            if 0 <= move <= 8 and board[move // 3][move % 3] == ' ':\n",
    "                return move\n",
    "            else:\n",
    "                print(\"Invalid move, spot taken or out of range.\")\n",
    "        except (ValueError, IndexError):\n",
    "            print(\"Invalid input. Enter 1–9 or 'q' to quit.\")\n",
    "\n",
    "def play_game():\n",
    "    board = [[' ' for _ in range(3)] for _ in range(3)]\n",
    "    current_player = 'X'\n",
    "\n",
    "    while True:\n",
    "        print_board(board)\n",
    "        move = get_move(board, current_player)\n",
    "\n",
    "        if move == 'quit':\n",
    "            break  # Exit the game loop completely\n",
    "\n",
    "        board[move // 3][move % 3] = current_player\n",
    "\n",
    "        if check_winner(board, current_player):\n",
    "            print_board(board)\n",
    "            print(f\"Player {current_player} wins!\")\n",
    "            break  # Stop game after win\n",
    "\n",
    "        if check_tie(board):\n",
    "            print_board(board)\n",
    "            print(\"It's a tie!\")\n",
    "            break  # Stop game after tie\n",
    "\n",
    "        current_player = 'O' if current_player == 'X' else 'X'\n",
    "\n",
    "# Run the game\n",
    "play_game()\n"
   ]
  },
  {
   "cell_type": "code",
   "execution_count": null,
   "id": "220bbcca-8184-48dd-bd00-f006964c6016",
   "metadata": {},
   "outputs": [],
   "source": []
  }
 ],
 "metadata": {
  "kernelspec": {
   "display_name": "Python 3 (ipykernel)",
   "language": "python",
   "name": "python3"
  },
  "language_info": {
   "codemirror_mode": {
    "name": "ipython",
    "version": 3
   },
   "file_extension": ".py",
   "mimetype": "text/x-python",
   "name": "python",
   "nbconvert_exporter": "python",
   "pygments_lexer": "ipython3",
   "version": "3.11.11"
  }
 },
 "nbformat": 4,
 "nbformat_minor": 5
}
